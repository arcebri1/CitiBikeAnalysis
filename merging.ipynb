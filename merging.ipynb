{
 "cells": [
  {
   "cell_type": "code",
   "execution_count": 1,
   "metadata": {},
   "outputs": [],
   "source": [
    "#Dependencies\n",
    "import pandas as pd\n",
    "import datetime\n",
    "import numpy as np\n",
    "import glob"
   ]
  },
  {
   "cell_type": "code",
   "execution_count": 3,
   "metadata": {},
   "outputs": [],
   "source": [
    "file = 'Resources/2018/JC-201801-citibike-tripdata.csv'\n",
    "file2 = 'Resources/2018/JC-201802-citibike-tripdata.csv'\n",
    "jan18=pd.read_csv(file)\n",
    "feb18=pd.read_csv(file2)"
   ]
  },
  {
   "cell_type": "code",
   "execution_count": 8,
   "metadata": {},
   "outputs": [
    {
     "data": {
      "text/plain": [
       "tripduration               12677\n",
       "starttime                  12677\n",
       "stoptime                   12677\n",
       "start station id           12677\n",
       "start station name         12677\n",
       "start station latitude     12677\n",
       "start station longitude    12677\n",
       "end station id             12677\n",
       "end station name           12677\n",
       "end station latitude       12677\n",
       "end station longitude      12677\n",
       "bikeid                     12677\n",
       "usertype                   12677\n",
       "birth year                 12677\n",
       "gender                     12677\n",
       "dtype: int64"
      ]
     },
     "execution_count": 8,
     "metadata": {},
     "output_type": "execute_result"
    }
   ],
   "source": [
    "jan18.count()\n",
    "# feb18.count()"
   ]
  },
  {
   "cell_type": "code",
   "execution_count": 7,
   "metadata": {},
   "outputs": [
    {
     "data": {
      "text/plain": [
       "tripduration               15104\n",
       "starttime                  15104\n",
       "stoptime                   15104\n",
       "start station id           15104\n",
       "start station name         15104\n",
       "start station latitude     15104\n",
       "start station longitude    15104\n",
       "end station id             15104\n",
       "end station name           15104\n",
       "end station latitude       15104\n",
       "end station longitude      15104\n",
       "bikeid                     15104\n",
       "usertype                   15104\n",
       "birth year                 15104\n",
       "gender                     15104\n",
       "dtype: int64"
      ]
     },
     "execution_count": 7,
     "metadata": {},
     "output_type": "execute_result"
    }
   ],
   "source": [
    "feb18.count()"
   ]
  },
  {
   "cell_type": "code",
   "execution_count": null,
   "metadata": {},
   "outputs": [],
   "source": []
  },
  {
   "cell_type": "code",
   "execution_count": null,
   "metadata": {},
   "outputs": [],
   "source": []
  }
 ],
 "metadata": {
  "kernelspec": {
   "display_name": "Python 3",
   "language": "python",
   "name": "python3"
  },
  "language_info": {
   "codemirror_mode": {
    "name": "ipython",
    "version": 3
   },
   "file_extension": ".py",
   "mimetype": "text/x-python",
   "name": "python",
   "nbconvert_exporter": "python",
   "pygments_lexer": "ipython3",
   "version": "3.6.10"
  }
 },
 "nbformat": 4,
 "nbformat_minor": 4
}
