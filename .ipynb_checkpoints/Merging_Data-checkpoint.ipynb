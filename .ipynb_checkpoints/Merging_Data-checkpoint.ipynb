{
 "cells": [
  {
   "cell_type": "code",
   "execution_count": 1,
   "metadata": {},
   "outputs": [],
   "source": [
    "#Dependencies\n",
    "import pandas as pd\n",
    "import datetime\n",
    "import numpy as np\n",
    "import glob"
   ]
  },
  {
   "cell_type": "code",
   "execution_count": 22,
   "metadata": {},
   "outputs": [],
   "source": [
    "data = \"Resources/2018\"\n",
    "\n",
    "datasets = glob.glob(data + '/*.csv')\n",
    "# print(datasets)\n",
    "\n",
    "bike_data = []\n",
    "\n",
    "for x in datasets:\n",
    "#     print(x)\n",
    "    read = pd.read_csv(x, index_col= None, header = 0)\n",
    "#     print(read)\n",
    "    bike_data.append(read)\n",
    "#     print(bike_data)\n"
   ]
  },
  {
   "cell_type": "code",
   "execution_count": 28,
   "metadata": {},
   "outputs": [],
   "source": [
    "merged = pd.concat(bike_data)\n",
    "# print(merged)\n",
    "# merged.head()\n",
    "merged.to_csv('Resources/2018/2018_merged.csv', index=False)"
   ]
  },
  {
   "cell_type": "code",
   "execution_count": 30,
   "metadata": {},
   "outputs": [],
   "source": [
    "# merged.count()"
   ]
  },
  {
   "cell_type": "code",
   "execution_count": 31,
   "metadata": {},
   "outputs": [],
   "source": [
    "data = \"Resources/2019\"\n",
    "\n",
    "datasets = glob.glob(data + '/*.csv')\n",
    "# print(datasets)\n",
    "\n",
    "bike_data = []\n",
    "\n",
    "for x in datasets:\n",
    "#     print(x)\n",
    "    read = pd.read_csv(x, index_col= None, header = 0)\n",
    "#     print(read)\n",
    "    bike_data.append(read)\n",
    "#     print(bike_data)\n",
    "merged = pd.concat(bike_data)\n",
    "# print(merged)\n",
    "# merged.head()\n",
    "merged.to_csv('Resources/2019/2019_merged.csv', index=False)"
   ]
  },
  {
   "cell_type": "code",
   "execution_count": 34,
   "metadata": {},
   "outputs": [],
   "source": [
    "# merged.count()"
   ]
  },
  {
   "cell_type": "code",
   "execution_count": 35,
   "metadata": {},
   "outputs": [],
   "source": [
    "# merged.head()"
   ]
  },
  {
   "cell_type": "code",
   "execution_count": 36,
   "metadata": {},
   "outputs": [],
   "source": [
    "data = \"Resources/2020\"\n",
    "\n",
    "datasets = glob.glob(data + '/*.csv')\n",
    "# print(datasets)\n",
    "\n",
    "bike_data = []\n",
    "\n",
    "for x in datasets:\n",
    "#     print(x)\n",
    "    read = pd.read_csv(x, index_col= None, header = 0)\n",
    "#     print(read)\n",
    "    bike_data.append(read)\n",
    "#     print(bike_data)\n",
    "merged = pd.concat(bike_data)\n",
    "# print(merged)\n",
    "# merged.head()\n",
    "merged.to_csv('Resources/2020/2020_merged.csv', index=False)"
   ]
  },
  {
   "cell_type": "code",
   "execution_count": 40,
   "metadata": {},
   "outputs": [],
   "source": [
    "# merged.head()"
   ]
  },
  {
   "cell_type": "code",
   "execution_count": 39,
   "metadata": {},
   "outputs": [],
   "source": [
    "# merged.count()"
   ]
  }
 ],
 "metadata": {
  "kernelspec": {
   "display_name": "Python 3",
   "language": "python",
   "name": "python3"
  },
  "language_info": {
   "codemirror_mode": {
    "name": "ipython",
    "version": 3
   },
   "file_extension": ".py",
   "mimetype": "text/x-python",
   "name": "python",
   "nbconvert_exporter": "python",
   "pygments_lexer": "ipython3",
   "version": "3.6.10"
  }
 },
 "nbformat": 4,
 "nbformat_minor": 4
}
